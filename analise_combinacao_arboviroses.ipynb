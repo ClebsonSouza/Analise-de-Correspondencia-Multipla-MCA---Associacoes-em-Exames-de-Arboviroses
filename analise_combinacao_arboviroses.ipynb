{
 "cells": [
  {
   "cell_type": "markdown",
   "metadata": {},
   "source": [
    "#### Resumo da Análise de Correspondência Múltipla (MCA) no Projeto de Arboviroses\n",
    "\n",
    "O Que é MCA?\n",
    "\n",
    "A Análise de Correspondência Múltipla (MCA) é uma técnica estatística usada para analisar e visualizar associações entre variáveis categóricas. No contexto do nosso projeto de análise de exames de arboviroses (Dengue, Zika e Chikungunya), a MCA foi utilizada para descobrir padrões e associações entre os resultados dos exames e o tempo de recebimento (diferença entre data de coleta e data de recebimento)."
   ]
  },
  {
   "cell_type": "markdown",
   "metadata": {},
   "source": [
    "#### IMPORTAÇÃO DE BIBLIOTECAS"
   ]
  },
  {
   "cell_type": "code",
   "execution_count": 19,
   "metadata": {},
   "outputs": [],
   "source": [
    "import pandas as pd\n",
    "from glob import glob\n",
    "import numpy as np\n",
    "from scipy.stats import chi2_contingency\n",
    "import statsmodels.api as sm\n",
    "import seaborn as sns\n",
    "import matplotlib.pyplot as plt\n",
    "import prince\n",
    "import plotly.io as pio\n",
    "import plotly.graph_objects as go\n",
    "from itertools import combinations"
   ]
  },
  {
   "cell_type": "markdown",
   "metadata": {},
   "source": [
    "#### IMPORTAÇÃO DE BASES DE DADOS"
   ]
  },
  {
   "cell_type": "code",
   "execution_count": 6,
   "metadata": {},
   "outputs": [
    {
     "data": {
      "text/html": [
       "<div>\n",
       "<style scoped>\n",
       "    .dataframe tbody tr th:only-of-type {\n",
       "        vertical-align: middle;\n",
       "    }\n",
       "\n",
       "    .dataframe tbody tr th {\n",
       "        vertical-align: top;\n",
       "    }\n",
       "\n",
       "    .dataframe thead th {\n",
       "        text-align: right;\n",
       "    }\n",
       "</style>\n",
       "<table border=\"1\" class=\"dataframe\">\n",
       "  <thead>\n",
       "    <tr style=\"text-align: right;\">\n",
       "      <th></th>\n",
       "      <th>exame_ajus</th>\n",
       "      <th>status_receb</th>\n",
       "      <th>resultado</th>\n",
       "    </tr>\n",
       "    <tr>\n",
       "      <th>Unnamed: 0</th>\n",
       "      <th></th>\n",
       "      <th></th>\n",
       "      <th></th>\n",
       "    </tr>\n",
       "  </thead>\n",
       "  <tbody>\n",
       "    <tr>\n",
       "      <th>6</th>\n",
       "      <td>Chikungunya</td>\n",
       "      <td>recebido_ate_1_dia</td>\n",
       "      <td>Negativo</td>\n",
       "    </tr>\n",
       "    <tr>\n",
       "      <th>7</th>\n",
       "      <td>Dengue</td>\n",
       "      <td>recebido_ate_1_dia</td>\n",
       "      <td>Negativo</td>\n",
       "    </tr>\n",
       "    <tr>\n",
       "      <th>8</th>\n",
       "      <td>Zika</td>\n",
       "      <td>recebido_ate_1_dia</td>\n",
       "      <td>Negativo</td>\n",
       "    </tr>\n",
       "    <tr>\n",
       "      <th>9</th>\n",
       "      <td>Dengue</td>\n",
       "      <td>recebido_ate_1_dia</td>\n",
       "      <td>Negativo</td>\n",
       "    </tr>\n",
       "    <tr>\n",
       "      <th>19</th>\n",
       "      <td>Dengue</td>\n",
       "      <td>recebido_ate_1_dia</td>\n",
       "      <td>Negativo</td>\n",
       "    </tr>\n",
       "    <tr>\n",
       "      <th>...</th>\n",
       "      <td>...</td>\n",
       "      <td>...</td>\n",
       "      <td>...</td>\n",
       "    </tr>\n",
       "    <tr>\n",
       "      <th>17938</th>\n",
       "      <td>Dengue</td>\n",
       "      <td>recebido_entre_1_e_2_dias</td>\n",
       "      <td>Negativo</td>\n",
       "    </tr>\n",
       "    <tr>\n",
       "      <th>17941</th>\n",
       "      <td>Zika</td>\n",
       "      <td>recebido_entre_1_e_2_dias</td>\n",
       "      <td>Negativo</td>\n",
       "    </tr>\n",
       "    <tr>\n",
       "      <th>17950</th>\n",
       "      <td>Chikungunya</td>\n",
       "      <td>recebido_ate_1_dia</td>\n",
       "      <td>Negativo</td>\n",
       "    </tr>\n",
       "    <tr>\n",
       "      <th>17951</th>\n",
       "      <td>Dengue</td>\n",
       "      <td>recebido_ate_1_dia</td>\n",
       "      <td>Negativo</td>\n",
       "    </tr>\n",
       "    <tr>\n",
       "      <th>17954</th>\n",
       "      <td>Zika</td>\n",
       "      <td>recebido_ate_1_dia</td>\n",
       "      <td>Negativo</td>\n",
       "    </tr>\n",
       "  </tbody>\n",
       "</table>\n",
       "<p>40120 rows × 3 columns</p>\n",
       "</div>"
      ],
      "text/plain": [
       "             exame_ajus               status_receb resultado\n",
       "Unnamed: 0                                                  \n",
       "6           Chikungunya         recebido_ate_1_dia  Negativo\n",
       "7                Dengue         recebido_ate_1_dia  Negativo\n",
       "8                  Zika         recebido_ate_1_dia  Negativo\n",
       "9                Dengue         recebido_ate_1_dia  Negativo\n",
       "19               Dengue         recebido_ate_1_dia  Negativo\n",
       "...                 ...                        ...       ...\n",
       "17938            Dengue  recebido_entre_1_e_2_dias  Negativo\n",
       "17941              Zika  recebido_entre_1_e_2_dias  Negativo\n",
       "17950       Chikungunya         recebido_ate_1_dia  Negativo\n",
       "17951            Dengue         recebido_ate_1_dia  Negativo\n",
       "17954              Zika         recebido_ate_1_dia  Negativo\n",
       "\n",
       "[40120 rows x 3 columns]"
      ]
     },
     "metadata": {},
     "output_type": "display_data"
    }
   ],
   "source": [
    "df_ajust = pd.read_excel('df_ajust.xlsx')\n",
    "\n",
    "df_ajust.set_index('Unnamed: 0', inplace=True)\n",
    "\n",
    "display(df_ajust)"
   ]
  },
  {
   "cell_type": "markdown",
   "metadata": {},
   "source": [
    "#### EXPLORAÇÃO DOS DADOS\n",
    "\n",
    "O código iterativamente percorre todas as colunas do DataFrame df_ajust, imprimindo a contagem de valores (incluindo valores nulos) para cada coluna, seguida de uma linha de asteriscos para separação visual."
   ]
  },
  {
   "cell_type": "code",
   "execution_count": 7,
   "metadata": {},
   "outputs": [
    {
     "name": "stdout",
     "output_type": "stream",
     "text": [
      "exame_ajus\n",
      "Dengue         14762\n",
      "Chikungunya    13248\n",
      "Zika           12110\n",
      "Name: count, dtype: int64\n",
      "**************************************************\n",
      "status_receb\n",
      "recebido_ate_1_dia            21985\n",
      "recebido_entre_1_e_2_dias      8957\n",
      "recebido_entre_2_e_5_dias      6710\n",
      "recebido_entre_5_e_10_dias     1913\n",
      "recebido_após_10_dia            555\n",
      "Name: count, dtype: int64\n",
      "**************************************************\n",
      "resultado\n",
      "Negativo    37752\n",
      "Positivo     2368\n",
      "Name: count, dtype: int64\n",
      "**************************************************\n"
     ]
    }
   ],
   "source": [
    "for i in df_ajust.columns:\n",
    "    print(df_ajust[i].value_counts(dropna=False))\n",
    "    print(50*'*')"
   ]
  },
  {
   "cell_type": "markdown",
   "metadata": {},
   "source": [
    "O código a seguir avalia a associação entre todas as combinações de pares de colunas no DataFrame df_ajust usando o teste qui-quadrado. Ele identifica se cada combinação tem uma associação significativa ao nível de 5% e armazena essas informações em listas para análise posterior."
   ]
  },
  {
   "cell_type": "code",
   "execution_count": 8,
   "metadata": {},
   "outputs": [],
   "source": [
    "def significancia(pvalue):\n",
    "    if pvalue <= 0.05:\n",
    "        res = \"Associação significativa ao nível de significãnciade de 5%\"\n",
    "    else:\n",
    "        res = \"Associação não significativa ao nível de significãncia de 5%\"\n",
    "    return res\n",
    "\n",
    "comb_2 = []\n",
    "pvl = []\n",
    "signif = []\n",
    "\n",
    "for item in list(combinations(df_ajust.columns, 2)):\n",
    "    #print(item, \"\\n\")\n",
    "    comb_2.append(item)\n",
    "    tabela = pd.crosstab(df_ajust[item[0]], df_ajust[item[1]])\n",
    "    \n",
    "    #print(tabela)    \n",
    "    \n",
    "    chi2, pvalor, gl, freq_esp = chi2_contingency(tabela)\n",
    "\n",
    "    #print(f\"estatística qui²: {round(chi2, 2)}\")\n",
    "    #print(f\"p-valor da estatística: {round(pvalor, 4)}\", \"\\n\")\n",
    "    pvl.append(round(pvalor, 4))    \n",
    "\n",
    "    sig = significancia(round(pvalor, 4))\n",
    "\n",
    "    #print(sig)\n",
    "\n",
    "    signif.append(sig)\n",
    "\n",
    "    #print(50*'*')"
   ]
  },
  {
   "cell_type": "code",
   "execution_count": 9,
   "metadata": {},
   "outputs": [
    {
     "data": {
      "text/html": [
       "<div>\n",
       "<style scoped>\n",
       "    .dataframe tbody tr th:only-of-type {\n",
       "        vertical-align: middle;\n",
       "    }\n",
       "\n",
       "    .dataframe tbody tr th {\n",
       "        vertical-align: top;\n",
       "    }\n",
       "\n",
       "    .dataframe thead th {\n",
       "        text-align: right;\n",
       "    }\n",
       "</style>\n",
       "<table border=\"1\" class=\"dataframe\">\n",
       "  <thead>\n",
       "    <tr style=\"text-align: right;\">\n",
       "      <th></th>\n",
       "      <th>combinacao</th>\n",
       "      <th>pvalor</th>\n",
       "      <th>result</th>\n",
       "    </tr>\n",
       "  </thead>\n",
       "  <tbody>\n",
       "    <tr>\n",
       "      <th>0</th>\n",
       "      <td>(exame_ajus, status_receb)</td>\n",
       "      <td>0.94</td>\n",
       "      <td>Associação não significativa ao nível de signi...</td>\n",
       "    </tr>\n",
       "    <tr>\n",
       "      <th>1</th>\n",
       "      <td>(exame_ajus, resultado)</td>\n",
       "      <td>0.00</td>\n",
       "      <td>Associação significativa ao nível de significã...</td>\n",
       "    </tr>\n",
       "    <tr>\n",
       "      <th>2</th>\n",
       "      <td>(status_receb, resultado)</td>\n",
       "      <td>0.00</td>\n",
       "      <td>Associação significativa ao nível de significã...</td>\n",
       "    </tr>\n",
       "  </tbody>\n",
       "</table>\n",
       "</div>"
      ],
      "text/plain": [
       "                   combinacao  pvalor  \\\n",
       "0  (exame_ajus, status_receb)    0.94   \n",
       "1     (exame_ajus, resultado)    0.00   \n",
       "2   (status_receb, resultado)    0.00   \n",
       "\n",
       "                                              result  \n",
       "0  Associação não significativa ao nível de signi...  \n",
       "1  Associação significativa ao nível de significã...  \n",
       "2  Associação significativa ao nível de significã...  "
      ]
     },
     "metadata": {},
     "output_type": "display_data"
    }
   ],
   "source": [
    "tab_sig = pd.DataFrame({'combinacao': comb_2,\n",
    "                        'pvalor': pvl,\n",
    "                        'result': signif\n",
    "                        })\n",
    "\n",
    "display(tab_sig)"
   ]
  },
  {
   "cell_type": "markdown",
   "metadata": {},
   "source": [
    "#### ELABORANDO A MCA"
   ]
  },
  {
   "cell_type": "code",
   "execution_count": 10,
   "metadata": {},
   "outputs": [],
   "source": [
    "mca = prince.MCA(n_components=2).fit(df_ajust)"
   ]
  },
  {
   "cell_type": "code",
   "execution_count": 11,
   "metadata": {},
   "outputs": [
    {
     "name": "stdout",
     "output_type": "stream",
     "text": [
      "quantidade total de categorias: 10\n",
      "**************************************************\n",
      "quantidade de variáveis: 3\n",
      "**************************************************\n",
      "quantidade de dimensões: 7\n",
      "**************************************************\n"
     ]
    }
   ],
   "source": [
    "# Quantidade total de categorias\n",
    "mca.J_\n",
    "\n",
    "# Quantidade de variáveis na análise\n",
    "mca.K_\n",
    "\n",
    "# Quantidade de dimensões\n",
    "quant_dim = mca.J_ - mca.K_\n",
    "\n",
    "# Resumo das informações\n",
    "print(f\"quantidade total de categorias: {mca.J_}\")\n",
    "print(50*'*')\n",
    "print(f\"quantidade de variáveis: {mca.K_}\")\n",
    "print(50*'*')\n",
    "print(f\"quantidade de dimensões: {quant_dim}\")\n",
    "print(50*'*')"
   ]
  },
  {
   "cell_type": "markdown",
   "metadata": {},
   "source": [
    "#### OBTENDO OS EIGENVALUES"
   ]
  },
  {
   "cell_type": "code",
   "execution_count": 12,
   "metadata": {},
   "outputs": [
    {
     "name": "stdout",
     "output_type": "stream",
     "text": [
      "          eigenvalue % of variance % of variance (cumulative)\n",
      "component                                                    \n",
      "0              0.391        16.75%                     16.75%\n",
      "1              0.335        14.36%                     31.11%\n"
     ]
    }
   ],
   "source": [
    "#%% Obtendo os eigenvalues\n",
    "\n",
    "tabela_autovalores = mca.eigenvalues_summary\n",
    "\n",
    "print(tabela_autovalores)"
   ]
  },
  {
   "cell_type": "markdown",
   "metadata": {},
   "source": [
    "#### INÉRCIA PRINCIPAL TOTAL"
   ]
  },
  {
   "cell_type": "code",
   "execution_count": 13,
   "metadata": {},
   "outputs": [
    {
     "name": "stdout",
     "output_type": "stream",
     "text": [
      "2.333333333333333\n"
     ]
    }
   ],
   "source": [
    "# Soma de todos os autovalores (todas as dimensões existentes)\n",
    "\n",
    "print(mca.total_inertia_)"
   ]
  },
  {
   "cell_type": "markdown",
   "metadata": {},
   "source": [
    "#### OBTENDO AS COORDENADAS PRINCIPAIS DAS CATEGORIAS DAS VARIÁVEIS"
   ]
  },
  {
   "cell_type": "code",
   "execution_count": 14,
   "metadata": {},
   "outputs": [
    {
     "name": "stdout",
     "output_type": "stream",
     "text": [
      "                                                0         1\n",
      "exame_ajus_Chikungunya                  -0.000199  0.015465\n",
      "exame_ajus_Dengue                       -0.003621 -0.010953\n",
      "exame_ajus_Zika                          0.004632 -0.003567\n",
      "status_receb_recebido_após_10_dia        0.002723  0.012601\n",
      "status_receb_recebido_ate_1_dia         -0.006715 -0.016332\n",
      "status_receb_recebido_entre_1_e_2_dias   0.006260  0.009988\n",
      "status_receb_recebido_entre_2_e_5_dias   0.010919  0.017085\n",
      "status_receb_recebido_entre_5_e_10_dias  0.008776  0.077348\n",
      "resultado_Negativo                      -0.000650 -0.000034\n",
      "resultado_Positivo                       0.010368  0.000542\n"
     ]
    }
   ],
   "source": [
    "coord_burt = mca.column_coordinates(df_ajust)\n",
    "\n",
    "print(coord_burt)"
   ]
  },
  {
   "cell_type": "markdown",
   "metadata": {},
   "source": [
    "#### OBTENDO AS COORDENADAS-PADRÃO DAS CATEGORIAS DAS VARIÁVEIS"
   ]
  },
  {
   "cell_type": "code",
   "execution_count": 15,
   "metadata": {},
   "outputs": [
    {
     "name": "stdout",
     "output_type": "stream",
     "text": [
      "                                                0         1\n",
      "exame_ajus_Chikungunya                  -0.000318  0.026721\n",
      "exame_ajus_Dengue                       -0.005792 -0.018925\n",
      "exame_ajus_Zika                          0.007409 -0.006162\n",
      "status_receb_recebido_após_10_dia        0.004355  0.021772\n",
      "status_receb_recebido_ate_1_dia         -0.010741 -0.028219\n",
      "status_receb_recebido_entre_1_e_2_dias   0.010012  0.017257\n",
      "status_receb_recebido_entre_2_e_5_dias   0.017464  0.029520\n",
      "status_receb_recebido_entre_5_e_10_dias  0.014037  0.133641\n",
      "resultado_Negativo                      -0.001040 -0.000059\n",
      "resultado_Positivo                       0.016583  0.000936\n"
     ]
    }
   ],
   "source": [
    "coord_padrao = mca.column_coordinates(df_ajust)/np.sqrt(mca.eigenvalues_)\n",
    "\n",
    "print(coord_padrao)"
   ]
  },
  {
   "cell_type": "markdown",
   "metadata": {},
   "source": [
    "#### OBTENDO AS COORDENADAS DAS OBSERVAÇÕES DO BANCO DE DADOS"
   ]
  },
  {
   "cell_type": "code",
   "execution_count": 16,
   "metadata": {},
   "outputs": [
    {
     "name": "stdout",
     "output_type": "stream",
     "text": [
      "                   0         1\n",
      "Unnamed: 0                    \n",
      "6           0.021578  0.034130\n",
      "7           0.139350 -0.847712\n",
      "8          -0.742825 -0.323112\n",
      "9           0.139350 -0.847712\n",
      "19          0.139350 -0.847712\n",
      "...              ...       ...\n",
      "17938       0.114458 -0.050173\n",
      "17941      -0.767716  0.474428\n",
      "17950       0.021578  0.034130\n",
      "17951       0.139350 -0.847712\n",
      "17954      -0.742825 -0.323112\n",
      "\n",
      "[40120 rows x 2 columns]\n"
     ]
    }
   ],
   "source": [
    "# Na função, as coordenadas das observações vêm das coordenadas-padrão\n",
    "\n",
    "coord_obs = mca.row_coordinates(df_ajust)\n",
    "\n",
    "print(coord_obs)"
   ]
  },
  {
   "cell_type": "markdown",
   "metadata": {},
   "source": [
    "#### PLOTANDO O MAPA PERCEPTUAL (COORDENADAS-PADRÃO)"
   ]
  },
  {
   "cell_type": "code",
   "execution_count": 17,
   "metadata": {},
   "outputs": [
    {
     "data": {
      "image/png": "[encoded data removed]",
      "text/plain": [
       "<Figure size 640x480 with 1 Axes>"
      ]
     },
     "metadata": {},
     "output_type": "display_data"
    }
   ],
   "source": [
    "# Primeiro passo: gerar um DataFrame detalhado\n",
    "\n",
    "chart = coord_padrao.reset_index()\n",
    "\n",
    "nome_categ=[]\n",
    "for col in df_ajust:\n",
    "    nome_categ.append(df_ajust[col].sort_values(ascending=True).unique())\n",
    "    categorias = pd.DataFrame(nome_categ).stack().reset_index()\n",
    "\n",
    "#var_chart = pd.Series(chart['index'])\n",
    "\n",
    "var_chart = pd.Series(chart['index'].str.split('_', expand=True).iloc[:,0])\n",
    "\n",
    "chart_df_mca = pd.DataFrame({'categoria': chart['index'],\n",
    "                             'obs_x': chart[0],\n",
    "                             'obs_y': chart[1],\n",
    "                             'variavel': var_chart,\n",
    "                             'categoria_id': categorias[0]})\n",
    "\n",
    "# Segundo passo: gerar o gráfico de pontos\n",
    "    \n",
    "def label_point(x, y, val, ax):\n",
    "    a = pd.concat({'x': x, 'y': y, 'val': val}, axis=1)\n",
    "    for i, point in a.iterrows():\n",
    "        #ax.text(point['x'] + 0.03, point['y'] - 0.02, point['val'], fontsize=5)\n",
    "        ax.text(point['x'], point['y'], point['val'], fontsize=5)\n",
    "\n",
    "\n",
    "\n",
    "label_point(x = chart_df_mca['obs_x'],\n",
    "            y = chart_df_mca['obs_y'],\n",
    "            val = chart_df_mca['categoria_id'],\n",
    "            ax = plt.gca())\n",
    "\n",
    "sns.scatterplot(data=chart_df_mca, x='obs_x', y='obs_y', hue='variavel', s=20)\n",
    "sns.despine(top=True, right=True, left=False, bottom=False)\n",
    "plt.axhline(y=0, color='lightgrey', ls='--', linewidth=0.8)\n",
    "plt.axvline(x=0, color='lightgrey', ls='--', linewidth=0.8)\n",
    "plt.tick_params(size=2, labelsize=6)\n",
    "plt.legend(bbox_to_anchor=(1.25,-0.2), fancybox=True, shadow=True, ncols=10, fontsize='5')\n",
    "plt.title(\"Mapa Perceptual - MCA\", fontsize=12)\n",
    "plt.xlabel(f\"Dim. 1: {tabela_autovalores.iloc[0,1]} da inércia\", fontsize=8)\n",
    "plt.ylabel(f\"Dim. 2: {tabela_autovalores.iloc[1,1]} da inércia\", fontsize=8)\n",
    "plt.show()"
   ]
  },
  {
   "cell_type": "markdown",
   "metadata": {},
   "source": [
    "#### Análise do Mapa Perceptual - MCA\n",
    "\n",
    "O mapa perceptual acima, resultado da Análise de Correspondência Múltipla (MCA) que relaciona diferentes variáveis envolvidas nos exames de arboviroses. Vamos explorar os pontos principais desse gráfico:\n",
    "\n",
    "Dimensões:\n",
    "\n",
    "- Dimensão 1 (16.75% da inércia): Captura a maior parte da variação nos dados.\n",
    "\n",
    "- Dimensão 2 (14.36% da inércia): Captura a segunda maior parte da variação.\n",
    "\n",
    "##### Interpretação\n",
    "\n",
    "- Recebido em até 1 dia: Associado com os exames de Dengue.\n",
    "\n",
    "- Recebido após 10 dias: Mais próximo dos resultados negativos e Chikungunya.\n",
    "\n",
    "Associação Temporal:\n",
    "\n",
    "- Exames recebidos rapidamente (até 1 dia) estão mais associados a casos de Dengue.\n",
    "\n",
    "- Exames com tempos de recebimento mais longos (entre 5 e 10 dias) estão mais associados a resultados positivos, o que pode sugerir uma possível relação entre o tempo de processamento e a positividade do exame.\n",
    "\n",
    "Distribuição das Doenças:\n",
    "\n",
    "- Chikungunya está mais associado a tempos de recebimento prolongados e resultados negativos.\n",
    "\n",
    "- Zika está mais centralizado, indicando uma distribuição equilibrada entre os resultados positivos e negativos.\n",
    "\n",
    "##### Conclusão\n",
    "\n",
    "Este mapa perceptual nos ajuda a visualizar a complexa relação entre os diferentes tempos de recebimento dos exames e os resultados das diferentes arboviroses. A análise sugere que há uma associação entre o tempo de recebimento e os tipos de exames, com Dengue tendendo a ser recebida mais rapidamente e Chikungunya mostrando uma tendência a tempos de recebimento mais longos e resultados negativos."
   ]
  },
  {
   "cell_type": "code",
   "execution_count": 18,
   "metadata": {},
   "outputs": [
    {
     "data": {
      "image/png": "[encoded data removed]",
      "text/plain": [
       "<Figure size 640x480 with 1 Axes>"
      ]
     },
     "metadata": {},
     "output_type": "display_data"
    }
   ],
   "source": [
    "#%% Gráfico das observações\n",
    "\n",
    "coord_obs['resultado'] = df_ajust['resultado']\n",
    "\n",
    "sns.scatterplot(data=coord_obs, x=0, y=1, hue='resultado', s=20)\n",
    "plt.title(\"Mapa das Observações - MCA\", fontsize=12)\n",
    "plt.xlabel(\"Dimensão 1\", fontsize=8)\n",
    "plt.ylabel(\"Dimensão 2\", fontsize=8)\n",
    "plt.show()"
   ]
  },
  {
   "cell_type": "markdown",
   "metadata": {},
   "source": [
    "Esse gráfico apenas reforça a informação vista no gráfico anterior, onde exames que apresentaram resultados negativos estão mais no lado esquerdo e os que apresentaram resultados positivos estão no lado direito."
   ]
  }
 ],
 "metadata": {
  "kernelspec": {
   "display_name": "base",
   "language": "python",
   "name": "python3"
  },
  "language_info": {
   "codemirror_mode": {
    "name": "ipython",
    "version": 3
   },
   "file_extension": ".py",
   "mimetype": "text/x-python",
   "name": "python",
   "nbconvert_exporter": "python",
   "pygments_lexer": "ipython3",
   "version": "3.11.5"
  }
 },
 "nbformat": 4,
 "nbformat_minor": 2
}
